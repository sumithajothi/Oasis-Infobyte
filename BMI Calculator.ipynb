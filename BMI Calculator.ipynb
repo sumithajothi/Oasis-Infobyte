{
 "cells": [
  {
   "cell_type": "markdown",
   "id": "5bd3a675",
   "metadata": {},
   "source": [
    "# Beginners"
   ]
  },
  {
   "cell_type": "code",
   "execution_count": 1,
   "id": "76655308",
   "metadata": {},
   "outputs": [
    {
     "name": "stdout",
     "output_type": "stream",
     "text": [
      "+-----------------------------------------------+\n",
      "|               BMI CALCULATOR                  |\n",
      "+-----------------------------------------------+\n",
      "Please enter your height in meters: 1.66\n",
      "Please enter your weight in kilograms: 78\n",
      "Your BMI is: 28.31\n",
      "Overweight\n"
     ]
    }
   ],
   "source": [
    "print(\"+-----------------------------------------------+\")\n",
    "print(\"|               BMI CALCULATOR                  |\")\n",
    "print(\"+-----------------------------------------------+\")\n",
    "\n",
    "height = float(input(\"Please enter your height in meters: \"))\n",
    "weight = float(input(\"Please enter your weight in kilograms: \"))\n",
    "# Formula to Calculate BMI\n",
    "bmi=weight/(height**2)\n",
    "print(f\"Your BMI is: {bmi:.2f}\")\n",
    "if bmi<18.5:\n",
    "    print(\"Underweight\")\n",
    "elif bmi<25:\n",
    "    print(\"Normal weight\")\n",
    "elif bmi<30:\n",
    "    print(\"Overweight\")\n",
    "else:\n",
    "    print(\"Obese\")"
   ]
  },
  {
   "cell_type": "code",
   "execution_count": null,
   "id": "40914e89",
   "metadata": {},
   "outputs": [],
   "source": []
  },
  {
   "cell_type": "code",
   "execution_count": null,
   "id": "dbe2a79b",
   "metadata": {},
   "outputs": [],
   "source": []
  }
 ],
 "metadata": {
  "kernelspec": {
   "display_name": "Python 3 (ipykernel)",
   "language": "python",
   "name": "python3"
  },
  "language_info": {
   "codemirror_mode": {
    "name": "ipython",
    "version": 3
   },
   "file_extension": ".py",
   "mimetype": "text/x-python",
   "name": "python",
   "nbconvert_exporter": "python",
   "pygments_lexer": "ipython3",
   "version": "3.10.9"
  }
 },
 "nbformat": 4,
 "nbformat_minor": 5
}
